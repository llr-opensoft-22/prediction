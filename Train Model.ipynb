{
  "cells": [
    {
      "cell_type": "code",
      "execution_count": null,
      "metadata": {
        "colab": {
          "base_uri": "https://localhost:8080/",
          "height": 1000
        },
        "id": "Ji89jkQAGT00",
        "outputId": "82f26d9e-d5ef-4764-832c-7c034a4aaaa3"
      },
      "outputs": [],
      "source": [
        "!pip install transformers\n",
        "!pip install df2gspread\n",
        "!pip install prometheus-api-client\n",
        "!pip install oauth2client\n",
        "!pip install torch\n",
        "!pip install auth\n",
        "!pip install --upgrade --quiet gspread"
      ]
    },
    {
      "cell_type": "code",
      "execution_count": null,
      "metadata": {
        "colab": {
          "base_uri": "https://localhost:8080/"
        },
        "id": "0mS3je_paR0h",
        "outputId": "6058b4e2-02b3-4696-8576-c4d8e49b8fa0"
      },
      "outputs": [
        {
          "name": "stdout",
          "output_type": "stream",
          "text": [
            "Mounted at /content/drive\n"
          ]
        }
      ],
      "source": [
        "from google.colab import drive\n",
        "drive.mount('/content/drive')"
      ]
    },
    {
      "cell_type": "code",
      "execution_count": null,
      "metadata": {
        "id": "KMJDBHsvGYMz"
      },
      "outputs": [],
      "source": [
        "import matplotlib.pyplot as plt\n",
        "import numpy as np\n",
        "import pandas as pd\n",
        "from psutil import cpu_percent\n",
        "from matplotlib.animation import FuncAnimation\n",
        "import gspread\n",
        "from oauth2client.service_account import ServiceAccountCredentials\n",
        "from df2gspread import df2gspread as d2g\n",
        "import df2gspread\n",
        "import matplotlib.pyplot as plt\n",
        "import torch\n",
        "import torch.nn as nn\n",
        "from torch.autograd import Variable\n",
        "from sklearn.preprocessing import MinMaxScaler\n",
        "from prometheus_api_client import PrometheusConnect\n",
        "import random"
      ]
    },
    {
      "cell_type": "markdown",
      "metadata": {},
      "source": [
        "## Train Data"
      ]
    },
    {
      "cell_type": "code",
      "execution_count": null,
      "metadata": {
        "colab": {
          "base_uri": "https://localhost:8080/"
        },
        "id": "E9VWZJ36NiHm",
        "outputId": "d053c4c2-7814-418f-d910-9dfa5df97192"
      },
      "outputs": [
        {
          "data": {
            "text/plain": [
              "(22999, 1)"
            ]
          },
          "execution_count": 57,
          "metadata": {},
          "output_type": "execute_result"
        }
      ],
      "source": [
        "training_set_df = pd.read_csv('data.csv')\n",
        "training_set_= training_set_df.iloc[:,1].values\n",
        "training_set=np.expand_dims(training_set_, axis=1)\n",
        "training_set.shape"
      ]
    },
    {
      "cell_type": "code",
      "execution_count": null,
      "metadata": {
        "id": "c_vvkhkkHG14"
      },
      "outputs": [],
      "source": [
        "\"\"\"## Dataloading\"\"\"\n",
        "\n",
        "def sliding_windows(data, seq_length):\n",
        "    x = []\n",
        "    y = []\n",
        "\n",
        "    for i in range(len(data)-seq_length-1):\n",
        "        _x = data[i:(i+seq_length)]\n",
        "        _y = data[i+seq_length]\n",
        "        x.append(_x)\n",
        "        y.append(_y)\n",
        "\n",
        "    return np.array(x),np.array(y)"
      ]
    },
    {
      "cell_type": "code",
      "execution_count": null,
      "metadata": {
        "colab": {
          "base_uri": "https://localhost:8080/",
          "height": 201
        },
        "id": "di7USicNNiK9",
        "outputId": "3910895e-5c0a-45b3-b349-f6a3f4d78071"
      },
      "outputs": [],
      "source": [
        "seq_length = 4\n",
        "x, y = sliding_windows(training_set, seq_length)"
      ]
    },
    {
      "cell_type": "code",
      "execution_count": null,
      "metadata": {
        "colab": {
          "base_uri": "https://localhost:8080/"
        },
        "id": "ZQyPMHrWIR3I",
        "outputId": "48eb72ff-efdd-42ff-f0a3-e81c707a8a27"
      },
      "outputs": [
        {
          "data": {
            "text/plain": [
              "((22994, 4, 1), (22994, 1))"
            ]
          },
          "execution_count": 60,
          "metadata": {},
          "output_type": "execute_result"
        }
      ],
      "source": [
        "x.shape,y.shape"
      ]
    },
    {
      "cell_type": "code",
      "execution_count": null,
      "metadata": {
        "colab": {
          "base_uri": "https://localhost:8080/"
        },
        "id": "X3QaLEezIPkZ",
        "outputId": "91ede23d-8eac-4808-e182-8004e4e69f6d"
      },
      "outputs": [
        {
          "data": {
            "text/plain": [
              "(torch.Size([22994, 4, 1]), torch.Size([22994, 1]))"
            ]
          },
          "execution_count": 61,
          "metadata": {},
          "output_type": "execute_result"
        }
      ],
      "source": [
        "train_size = int(len(y) * 0.67)\n",
        "test_size = len(y) - train_size\n",
        "\n",
        "dataX = Variable(torch.Tensor(np.array(x)))\n",
        "dataY = Variable(torch.Tensor(np.array(y)))\n",
        "dataX.shape,dataY.shape"
      ]
    },
    {
      "cell_type": "code",
      "execution_count": null,
      "metadata": {
        "colab": {
          "base_uri": "https://localhost:8080/"
        },
        "id": "PyqEiTV0IzRy",
        "outputId": "d339d40d-9ef7-4b7f-a7d7-cc59607901c8"
      },
      "outputs": [
        {
          "data": {
            "text/plain": [
              "(torch.Size([15405, 4, 1]), torch.Size([15405, 1]))"
            ]
          },
          "execution_count": 62,
          "metadata": {},
          "output_type": "execute_result"
        }
      ],
      "source": [
        "trainX = Variable(torch.Tensor(np.array(x[0:train_size])))\n",
        "trainY = Variable(torch.Tensor(np.array(y[0:train_size])))\n",
        "trainX.shape,trainY.shape"
      ]
    },
    {
      "cell_type": "code",
      "execution_count": null,
      "metadata": {
        "colab": {
          "base_uri": "https://localhost:8080/"
        },
        "id": "BD07ifY4Hufz",
        "outputId": "ec745411-6fe5-4b3d-e7e2-9eb13063f5cb"
      },
      "outputs": [
        {
          "data": {
            "text/plain": [
              "(torch.Size([7589, 4, 1]), torch.Size([7589, 1]))"
            ]
          },
          "execution_count": 63,
          "metadata": {},
          "output_type": "execute_result"
        }
      ],
      "source": [
        "testX = Variable(torch.Tensor(np.array(x[train_size:len(x)])))\n",
        "testY = Variable(torch.Tensor(np.array(y[train_size:len(y)])))\n",
        "testX.shape,testY.shape"
      ]
    },
    {
      "cell_type": "markdown",
      "metadata": {},
      "source": [
        "## Model"
      ]
    },
    {
      "cell_type": "code",
      "execution_count": null,
      "metadata": {
        "id": "hTHrF84lNiPx"
      },
      "outputs": [],
      "source": [
        "class LSTM(nn.Module):\n",
        "\n",
        "    def __init__(self, num_classes, input_size, hidden_size, num_layers):\n",
        "        super(LSTM, self).__init__()\n",
        "        \n",
        "        self.num_classes = num_classes\n",
        "        self.num_layers = num_layers\n",
        "        self.input_size = input_size\n",
        "        self.hidden_size = hidden_size\n",
        "        self.seq_length = seq_length\n",
        "        \n",
        "        self.lstm = nn.LSTM(input_size=input_size, hidden_size=hidden_size,\n",
        "                            num_layers=num_layers, batch_first=True)\n",
        "        \n",
        "        self.fc = nn.Linear(hidden_size, num_classes)\n",
        "\n",
        "    def forward(self, x):\n",
        "        h_0 = Variable(torch.zeros(\n",
        "            self.num_layers, x.size(0), self.hidden_size))\n",
        "        \n",
        "        c_0 = Variable(torch.zeros(\n",
        "            self.num_layers, x.size(0), self.hidden_size))\n",
        "        \n",
        "        # Propagate input through LSTM\n",
        "        ula, (h_out, _) = self.lstm(x, (h_0, c_0))\n",
        "        \n",
        "        h_out = h_out.view(-1, self.hidden_size)\n",
        "        \n",
        "        out = self.fc(h_out)\n",
        "        \n",
        "        return out"
      ]
    },
    {
      "cell_type": "markdown",
      "metadata": {},
      "source": [
        "## Training"
      ]
    },
    {
      "cell_type": "code",
      "execution_count": null,
      "metadata": {
        "id": "aRCblSWxJGuz"
      },
      "outputs": [],
      "source": [
        "num_epochs = 2000\n",
        "learning_rate = 0.01\n",
        "\n",
        "input_size = 1\n",
        "hidden_size = 2\n",
        "num_layers = 1\n",
        "\n",
        "num_classes = 1"
      ]
    },
    {
      "cell_type": "code",
      "execution_count": null,
      "metadata": {
        "colab": {
          "base_uri": "https://localhost:8080/",
          "height": 305
        },
        "id": "MvDKemcUJLJx",
        "outputId": "187240e9-4654-464b-93f8-e223f910ade3"
      },
      "outputs": [],
      "source": [
        "lstm = LSTM(num_classes, input_size, hidden_size, num_layers)\n",
        "lstm"
      ]
    },
    {
      "cell_type": "code",
      "execution_count": null,
      "metadata": {
        "id": "rozrUhU4JRiV"
      },
      "outputs": [],
      "source": [
        "criterion = torch.nn.MSELoss()    # mean-squared error for regression\n",
        "optimizer = torch.optim.Adam(lstm.parameters(), lr=learning_rate)\n",
        "#optimizer = torch.optim.SGD(lstm.parameters(), lr=learning_rate)"
      ]
    },
    {
      "cell_type": "code",
      "execution_count": null,
      "metadata": {
        "colab": {
          "base_uri": "https://localhost:8080/"
        },
        "id": "UF05IY0jNiSL",
        "outputId": "d878f289-2f4e-402d-acb7-c3bc54d7ea4b"
      },
      "outputs": [
        {
          "name": "stdout",
          "output_type": "stream",
          "text": [
            "Epoch: 0, loss: 112.48013\n",
            "Epoch: 100, loss: 111.69661\n",
            "Epoch: 200, loss: 110.99313\n",
            "Epoch: 300, loss: 110.36404\n",
            "Epoch: 400, loss: 109.81435\n",
            "Epoch: 500, loss: 109.30724\n",
            "Epoch: 600, loss: 109.08120\n",
            "Epoch: 700, loss: 108.47186\n",
            "Epoch: 800, loss: 108.11949\n",
            "Epoch: 900, loss: 107.80260\n",
            "Epoch: 1000, loss: 107.51493\n",
            "Epoch: 1100, loss: 107.25146\n",
            "Epoch: 1200, loss: 107.01277\n",
            "Epoch: 1300, loss: 106.78038\n",
            "Epoch: 1400, loss: 106.67872\n",
            "Epoch: 1500, loss: 106.36123\n",
            "Epoch: 1600, loss: 106.17095\n",
            "Epoch: 1700, loss: 105.97476\n",
            "Epoch: 1800, loss: 105.79173\n",
            "Epoch: 1900, loss: 105.60867\n"
          ]
        }
      ],
      "source": [
        "# Train the model\n",
        "for epoch in range(num_epochs):\n",
        "    outputs = lstm(trainX)\n",
        "    optimizer.zero_grad()\n",
        "    \n",
        "    # obtain the loss function\n",
        "    loss = criterion(outputs, trainY)\n",
        "    \n",
        "    loss.backward()\n",
        "    \n",
        "    optimizer.step()\n",
        "    if epoch % 100 == 0:\n",
        "      print(\"Epoch: %d, loss: %1.5f\" % (epoch, loss.item()))"
      ]
    },
    {
      "cell_type": "markdown",
      "metadata": {},
      "source": [
        "## Evaluation"
      ]
    },
    {
      "cell_type": "code",
      "execution_count": null,
      "metadata": {
        "colab": {
          "base_uri": "https://localhost:8080/",
          "height": 294
        },
        "id": "k-9g0lJsOA9X",
        "outputId": "7938b301-3f31-4043-a1b9-e8154ccc4498"
      },
      "outputs": [
        {
          "data": {
            "image/png": "[encoded data removed]",
            "text/plain": [
              "<Figure size 432x288 with 1 Axes>"
            ]
          },
          "metadata": {
            "needs_background": "light"
          },
          "output_type": "display_data"
        }
      ],
      "source": [
        "lstm.eval()\n",
        "train_predict = lstm(dataX)\n",
        "\n",
        "data_predict = train_predict.data.numpy()\n",
        "dataY_plot = dataY.data.numpy()\n",
        "\n",
        "# data_predict = sc.inverse_transform(data_predict)\n",
        "# dataY_plot = sc.inverse_transform(dataY_plot)\n",
        "\n",
        "plt.axvline(x=train_size, c='r', linestyle='--')\n",
        "\n",
        "plt.plot(dataY_plot)\n",
        "plt.plot(data_predict)\n",
        "plt.suptitle('Time-Series Prediction')\n",
        "plt.show()"
      ]
    },
    {
      "cell_type": "code",
      "execution_count": null,
      "metadata": {
        "id": "-ujMST5bQIAV"
      },
      "outputs": [],
      "source": [
        "torch.save(lstm.state_dict(),\"model\")"
      ]
    },
    {
      "cell_type": "code",
      "execution_count": null,
      "metadata": {
        "colab": {
          "base_uri": "https://localhost:8080/"
        },
        "id": "8NFv-0qRQKc1",
        "outputId": "4441f249-3be9-4994-a65c-0a11d5924b01"
      },
      "outputs": [
        {
          "data": {
            "text/plain": [
              "<All keys matched successfully>"
            ]
          },
          "execution_count": 78,
          "metadata": {},
          "output_type": "execute_result"
        }
      ],
      "source": [
        "model = LSTM(num_classes, input_size, hidden_size, num_layers)\n",
        "model.load_state_dict(torch.load(\"model\"))"
      ]
    },
    {
      "cell_type": "markdown",
      "metadata": {
        "id": "z0kYN2rOPWK1"
      },
      "source": [
        "## Loading saved model"
      ]
    },
    {
      "cell_type": "code",
      "execution_count": null,
      "metadata": {
        "id": "A5oX-Y11U1ub"
      },
      "outputs": [],
      "source": [
        "df=pd.read_csv(\"data.csv\")\n",
        "n = random. randint(0,len(df)-4)\n",
        "val=df.iloc[n:n+4,1].values\n",
        "val=np.expand_dims(val, axis=1)\n",
        "# print(val.shape)\n",
        "val=np.expand_dims(val, axis=0)\n",
        "val_t=Variable(torch.Tensor(val))"
      ]
    },
    {
      "cell_type": "code",
      "execution_count": null,
      "metadata": {
        "colab": {
          "base_uri": "https://localhost:8080/",
          "height": 294
        },
        "id": "6xM7E4WuRCEs",
        "outputId": "e2a8dd23-68c4-4846-e5ad-3dbedf34b7c3"
      },
      "outputs": [
        {
          "data": {
            "image/png": "[encoded data removed]",
            "text/plain": [
              "<Figure size 432x288 with 1 Axes>"
            ]
          },
          "metadata": {
            "needs_background": "light"
          },
          "output_type": "display_data"
        }
      ],
      "source": [
        "lstm=model\n",
        "lstm.eval()\n",
        "train_predict = lstm(dataX)\n",
        "\n",
        "data_predict = train_predict.data.numpy()\n",
        "dataY_plot = dataY.data.numpy()\n",
        "\n",
        "plt.axvline(x=train_size, c='r', linestyle='--')\n",
        "\n",
        "plt.plot(dataY_plot)\n",
        "plt.plot(data_predict)\n",
        "plt.suptitle('Time-Series Prediction')\n",
        "plt.show()"
      ]
    }
  ],
  "metadata": {
    "colab": {
      "collapsed_sections": [],
      "name": "GC Project.ipynb",
      "provenance": []
    },
    "kernelspec": {
      "display_name": "Python 3",
      "name": "python3"
    },
    "language_info": {
      "name": "python"
    }
  },
  "nbformat": 4,
  "nbformat_minor": 0
}
